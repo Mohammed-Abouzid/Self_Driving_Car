{
 "cells": [
  {
   "cell_type": "markdown",
   "metadata": {},
   "source": [
    "# Self-Driving Car Engineer Nanodegree\n",
    "\n",
    "## Deep Learning\n",
    "\n",
    "## Project: Build a Traffic Sign Recognition Classifier\n",
    "\n",
    "In this notebook, a template is provided for you to implement your functionality in stages, which is required to successfully complete this project. If additional code is required that cannot be included in the notebook, be sure that the Python code is successfully imported and included in your submission if necessary. \n",
    "\n",
    "> **Note**: Once you have completed all of the code implementations, you need to finalize your work by exporting the iPython Notebook as an HTML document. Before exporting the notebook to html, all of the code cells need to have been run so that reviewers can see the final implementation and output. You can then export the notebook by using the menu above and navigating to  \\n\",\n",
    "    \"**File -> Download as -> HTML (.html)**. Include the finished document along with this notebook as your submission. \n",
    "\n",
    "In addition to implementing code, there is a writeup to complete. The writeup should be completed in a separate file, which can be either a markdown file or a pdf document. There is a [write up template](https://github.com/udacity/CarND-Traffic-Sign-Classifier-Project/blob/master/writeup_template.md) that can be used to guide the writing process. Completing the code template and writeup template will cover all of the [rubric points](https://review.udacity.com/#!/rubrics/481/view) for this project.\n",
    "\n",
    "The [rubric](https://review.udacity.com/#!/rubrics/481/view) contains \"Stand Out Suggestions\" for enhancing the project beyond the minimum requirements. The stand out suggestions are optional. If you decide to pursue the \"stand out suggestions\", you can include the code in this Ipython notebook and also discuss the results in the writeup file.\n",
    "\n",
    "\n",
    ">**Note:** Code and Markdown cells can be executed using the **Shift + Enter** keyboard shortcut. In addition, Markdown cells can be edited by typically double-clicking the cell to enter edit mode."
   ]
  },
  {
   "cell_type": "markdown",
   "metadata": {},
   "source": [
    "---\n",
    "## Step 0: Load The Data"
   ]
  },
  {
   "cell_type": "code",
   "execution_count": 1,
   "metadata": {},
   "outputs": [],
   "source": [
    "import os\n",
    "import pickle\n",
    "import glob\n",
    "import csv\n",
    "\n",
    "import tensorflow as tf\n",
    "from tensorflow.contrib.layers import flatten\n",
    "import numpy as np\n",
    "import cv2\n",
    "from PIL import Image\n",
    "import matplotlib.pyplot as plt\n",
    "%matplotlib inline\n",
    "from sklearn.model_selection import train_test_split\n",
    "from sklearn.preprocessing import LabelBinarizer\n",
    "from sklearn.utils import resample\n",
    "from sklearn.utils import shuffle\n",
    "\n",
    "from tqdm import tqdm"
   ]
  },
  {
   "cell_type": "code",
   "execution_count": 2,
   "metadata": {},
   "outputs": [],
   "source": [
    "# to download the dataset\n",
    "\n",
    "# from urllib.request import urlretrieve\n",
    "# from zipfile import ZipFile\n",
    "\n",
    "# def download(url, file):\n",
    "#     \"\"\"\n",
    "#     Download file from <url>\n",
    "#     :param url: URL to file\n",
    "#     :param file: Local file path\n",
    "#     \"\"\"\n",
    "#     if not os.path.isfile(file):\n",
    "#         print('Downloading ' + file + '...')\n",
    "#         urlretrieve(url, file)\n",
    "#         print('Download Finished')"
   ]
  },
  {
   "cell_type": "code",
   "execution_count": 3,
   "metadata": {},
   "outputs": [],
   "source": [
    "# pth='https://s3-us-west-1.amazonaws.com/udacity-selfdrivingcar/traffic-signs-data.zip'\n",
    "# download(pth, 'dataset.zip')"
   ]
  },
  {
   "cell_type": "code",
   "execution_count": 4,
   "metadata": {},
   "outputs": [],
   "source": [
    "# unzip the dataset\n",
    "\n",
    "# with ZipFile('dataset.zip', 'r') as zip_ref:\n",
    "#     zip_ref.extractall('dataset/')"
   ]
  },
  {
   "cell_type": "code",
   "execution_count": 5,
   "metadata": {},
   "outputs": [],
   "source": [
    "# Load pickled data\n",
    "# TODO: Fill this in based on where you saved the training and testing data\n",
    "#training_file = 'dataset/train.p'\n",
    "training_file = 'dataset/aug_train.p'\n",
    "validation_file='dataset/valid.p'\n",
    "testing_file = 'dataset/test.p'\n",
    "\n",
    "with open(training_file, mode='rb') as f:\n",
    "    train = pickle.load(f)\n",
    "with open(validation_file, mode='rb') as f:\n",
    "    valid = pickle.load(f)\n",
    "with open(testing_file, mode='rb') as f:\n",
    "    test = pickle.load(f)\n",
    "    \n",
    "X_train, y_train = train['features'], train['labels']\n",
    "X_valid, y_valid = valid['features'], valid['labels']\n",
    "X_test, y_test = test['features'], test['labels']"
   ]
  },
  {
   "cell_type": "markdown",
   "metadata": {},
   "source": [
    "---\n",
    "\n",
    "## Step 1: Dataset Summary & Exploration\n",
    "\n",
    "The pickled data is a dictionary with 4 key/value pairs:\n",
    "\n",
    "- `'features'` is a 4D array containing raw pixel data of the traffic sign images, (num examples, width, height, channels).\n",
    "- `'labels'` is a 1D array containing the label/class id of the traffic sign. The file `signnames.csv` contains id -> name mappings for each id.\n",
    "- `'sizes'` is a list containing tuples, (width, height) representing the original width and height the image.\n",
    "- `'coords'` is a list containing tuples, (x1, y1, x2, y2) representing coordinates of a bounding box around the sign in the image. **THESE COORDINATES ASSUME THE ORIGINAL IMAGE. THE PICKLED DATA CONTAINS RESIZED VERSIONS (32 by 32) OF THESE IMAGES**\n",
    "\n",
    "Complete the basic data summary below. Use python, numpy and/or pandas methods to calculate the data summary rather than hard coding the results. For example, the [pandas shape method](http://pandas.pydata.org/pandas-docs/stable/generated/pandas.DataFrame.shape.html) might be useful for calculating some of the summary results. "
   ]
  },
  {
   "cell_type": "markdown",
   "metadata": {},
   "source": [
    "### Provide a Basic Summary of the Data Set Using Python, Numpy and/or Pandas"
   ]
  },
  {
   "cell_type": "code",
   "execution_count": 6,
   "metadata": {},
   "outputs": [
    {
     "name": "stdout",
     "output_type": "stream",
     "text": [
      "Number of training examples:     69598\n",
      "Number of validiation examples:  4410\n",
      "Number of test examples:         12630\n",
      "image shape:\t\t\t (32, 32, 3)\n",
      "classes from 0 to 42, this means number of classes = 43\n"
     ]
    }
   ],
   "source": [
    "### Replace each question mark with the appropriate value. \n",
    "### Use python, pandas or numpy methods rather than hard coding the results\n",
    "\n",
    "\n",
    "# TODO: Number of training examples\n",
    "print('Number of training examples:    ', len(y_train))\n",
    "\n",
    "# TODO: Number of validation examples\n",
    "print('Number of validiation examples: ', len(y_valid))\n",
    "\n",
    "# TODO: Number of testing examples.\n",
    "print('Number of test examples:        ', len(y_test))\n",
    "\n",
    "# TODO: What's the shape of an traffic sign image?\n",
    "print('image shape:\\t\\t\\t', np.shape(X_train[0]))\n",
    "\n",
    "# TODO: How many unique classes/labels there are in the dataset.\n",
    "print('classes from {} to {}, this means number of classes = {}'.format(min(y_test), max(y_test), max(y_test)+1 ))"
   ]
  },
  {
   "cell_type": "markdown",
   "metadata": {},
   "source": [
    "### Include an exploratory visualization of the dataset"
   ]
  },
  {
   "cell_type": "markdown",
   "metadata": {},
   "source": [
    "Visualize the German Traffic Signs Dataset using the pickled file(s). This is open ended, suggestions include: plotting traffic sign images, plotting the count of each sign, etc. \n",
    "\n",
    "The [Matplotlib](http://matplotlib.org/) [examples](http://matplotlib.org/examples/index.html) and [gallery](http://matplotlib.org/gallery.html) pages are a great resource for doing visualizations in Python.\n",
    "\n",
    "**NOTE:** It's recommended you start with something simple first. If you wish to do more, come back to it after you've completed the rest of the sections. It can be interesting to look at the distribution of classes in the training, validation and test set. Is the distribution the same? Are there more examples of some classes than others?"
   ]
  },
  {
   "cell_type": "code",
   "execution_count": 7,
   "metadata": {},
   "outputs": [
    {
     "data": {
      "text/plain": [
       "<matplotlib.legend.Legend at 0x7f2bb2aebc18>"
      ]
     },
     "execution_count": 7,
     "metadata": {},
     "output_type": "execute_result"
    },
    {
     "data": {
      "image/png": "[encoded data removed]",
      "text/plain": [
       "<matplotlib.figure.Figure at 0x7f2bb2aebef0>"
      ]
     },
     "metadata": {
      "needs_background": "light"
     },
     "output_type": "display_data"
    }
   ],
   "source": [
    "### Data exploration visualization code goes here.\n",
    "### Feel free to use as many code cells as needed.\n",
    "plt.hist((y_train, y_valid, y_test), histtype='barstacked', label=('Train', 'Valid.', 'Test'), bins=43, density=True)\n",
    "plt.legend()\n",
    "\n"
   ]
  },
  {
   "cell_type": "code",
   "execution_count": 8,
   "metadata": {},
   "outputs": [
    {
     "name": "stdout",
     "output_type": "stream",
     "text": [
      "label:  36\n",
      "(32, 32, 3)\n"
     ]
    },
    {
     "data": {
      "text/plain": [
       "<matplotlib.image.AxesImage at 0x7f2bb28b7208>"
      ]
     },
     "execution_count": 8,
     "metadata": {},
     "output_type": "execute_result"
    },
    {
     "data": {
      "image/png": "[encoded data removed]",
      "text/plain": [
       "<matplotlib.figure.Figure at 0x7f2bb2aa18d0>"
      ]
     },
     "metadata": {
      "needs_background": "light"
     },
     "output_type": "display_data"
    }
   ],
   "source": [
    "# exploring samples from the dataset\n",
    "\n",
    "print('label: ', y_train[1000])\n",
    "print(X_train[1000].shape)\n",
    "plt.imshow(X_train[1000])"
   ]
  },
  {
   "cell_type": "code",
   "execution_count": 9,
   "metadata": {},
   "outputs": [
    {
     "data": {
      "text/plain": [
       "<matplotlib.image.AxesImage at 0x7f2bb28a0be0>"
      ]
     },
     "execution_count": 9,
     "metadata": {},
     "output_type": "execute_result"
    },
    {
     "data": {
      "image/png": "[encoded data removed]",
      "text/plain": [
       "<matplotlib.figure.Figure at 0x7f2bb293a898>"
      ]
     },
     "metadata": {
      "needs_background": "light"
     },
     "output_type": "display_data"
    }
   ],
   "source": [
    " #  RGB2GRAY)\n",
    "vv = cv2.equalizeHist(cv2.cvtColor(X_train[1000], cv2.COLOR_RGB2GRAY))\n",
    "plt.imshow(vv)"
   ]
  },
  {
   "cell_type": "code",
   "execution_count": 10,
   "metadata": {},
   "outputs": [
    {
     "data": {
      "text/plain": [
       "<matplotlib.image.AxesImage at 0x7f2bb2803eb8>"
      ]
     },
     "execution_count": 10,
     "metadata": {},
     "output_type": "execute_result"
    },
    {
     "data": {
      "image/png": "[encoded data removed]",
      "text/plain": [
       "<matplotlib.figure.Figure at 0x7f2bb28345c0>"
      ]
     },
     "metadata": {
      "needs_background": "light"
     },
     "output_type": "display_data"
    }
   ],
   "source": [
    "plt.imshow(cv2.cvtColor(X_train[1000], cv2.COLOR_RGB2GRAY))"
   ]
  },
  {
   "cell_type": "markdown",
   "metadata": {},
   "source": [
    "----\n",
    "\n",
    "## Step 2: Design and Test a Model Architecture\n",
    "\n",
    "Design and implement a deep learning model that learns to recognize traffic signs. Train and test your model on the [German Traffic Sign Dataset](http://benchmark.ini.rub.de/?section=gtsrb&subsection=dataset).\n",
    "\n",
    "The LeNet-5 implementation shown in the [classroom](https://classroom.udacity.com/nanodegrees/nd013/parts/fbf77062-5703-404e-b60c-95b78b2f3f9e/modules/6df7ae49-c61c-4bb2-a23e-6527e69209ec/lessons/601ae704-1035-4287-8b11-e2c2716217ad/concepts/d4aca031-508f-4e0b-b493-e7b706120f81) at the end of the CNN lesson is a solid starting point. You'll have to change the number of classes and possibly the preprocessing, but aside from that it's plug and play! \n",
    "\n",
    "With the LeNet-5 solution from the lecture, you should expect a validation set accuracy of about 0.89. To meet specifications, the validation set accuracy will need to be at least 0.93. It is possible to get an even higher accuracy, but 0.93 is the minimum for a successful project submission. \n",
    "\n",
    "There are various aspects to consider when thinking about this problem:\n",
    "\n",
    "- Neural network architecture (is the network over or underfitting?)\n",
    "- Play around preprocessing techniques (normalization, rgb to grayscale, etc)\n",
    "- Number of examples per label (some have more than others).\n",
    "- Generate fake data.\n",
    "\n",
    "Here is an example of a [published baseline model on this problem](http://yann.lecun.com/exdb/publis/pdf/sermanet-ijcnn-11.pdf). It's not required to be familiar with the approach used in the paper but, it's good practice to try to read papers like these."
   ]
  },
  {
   "cell_type": "markdown",
   "metadata": {},
   "source": [
    "### Pre-process the Data Set (normalization, grayscale, etc.)"
   ]
  },
  {
   "cell_type": "markdown",
   "metadata": {},
   "source": [
    "Minimally, the image data should be normalized so that the data has mean zero and equal variance. For image data, `(pixel - 128)/ 128` is a quick way to approximately normalize the data and can be used in this project. \n",
    "\n",
    "Other pre-processing steps are optional. You can try different techniques to see if it improves performance. \n",
    "\n",
    "Use the code cell (or multiple code cells, if necessary) to implement the first step of your project."
   ]
  },
  {
   "cell_type": "code",
   "execution_count": 11,
   "metadata": {},
   "outputs": [],
   "source": [
    "### Preprocess the data here. It is required to normalize the data. Other preprocessing steps could include \n",
    "### converting to grayscale, etc.\n",
    "### Feel free to use as many code cells as needed.\n",
    "\n",
    "def preprocess(data, RGB_BGR='RGB'):\n",
    "    \"\"\"\n",
    "    Normalize the image data with Min-Max scaling to a range of [0, 1]\n",
    "    \"\"\"\n",
    "    # TODO: Implement Min-Max scaling for grayscale image data\n",
    "    d =[]\n",
    "    for i, img in enumerate(data):\n",
    "        if RGB_BGR=='RGB':   # for the pickeled datase\n",
    "            hist_gray = cv2.equalizeHist(cv2.cvtColor(img, cv2.COLOR_RGB2GRAY))\n",
    "        elif RGB_BGR=='BGR':   #for cv2.imread\n",
    "            resized = cv2.resize(img, (32, 32)) \n",
    "            hist_gray = cv2.equalizeHist(cv2.cvtColor(resized, cv2.COLOR_BGR2GRAY))            \n",
    "        im= np.expand_dims(np.array(hist_gray), axis=2)\n",
    "\n",
    "        # normalize the image\n",
    "        norm_im = (im - im.mean()) / (im.max() - im.min())\n",
    "        d.append(norm_im)\n",
    "    return np.array(d)"
   ]
  },
  {
   "cell_type": "code",
   "execution_count": 12,
   "metadata": {},
   "outputs": [
    {
     "name": "stdout",
     "output_type": "stream",
     "text": [
      "[11 12 12]\n"
     ]
    }
   ],
   "source": [
    "# one pixel before preprocessing\n",
    "print(X_train[1000][0][3])"
   ]
  },
  {
   "cell_type": "code",
   "execution_count": 13,
   "metadata": {},
   "outputs": [],
   "source": [
    "# preprocess the dataset\n",
    "\n",
    "X_train = preprocess(X_train, RGB_BGR='RGB')\n",
    "X_valid = preprocess(X_valid, RGB_BGR='RGB')\n",
    "X_test = preprocess(X_test, RGB_BGR='RGB')"
   ]
  },
  {
   "cell_type": "code",
   "execution_count": 14,
   "metadata": {},
   "outputs": [
    {
     "name": "stdout",
     "output_type": "stream",
     "text": [
      "[-0.40494409]\n"
     ]
    },
    {
     "data": {
      "text/plain": [
       "<matplotlib.image.AxesImage at 0x7f2bb222bbe0>"
      ]
     },
     "execution_count": 14,
     "metadata": {},
     "output_type": "execute_result"
    },
    {
     "data": {
      "image/png": "[encoded data removed]",
      "text/plain": [
       "<matplotlib.figure.Figure at 0x7f2bb280d400>"
      ]
     },
     "metadata": {
      "needs_background": "light"
     },
     "output_type": "display_data"
    }
   ],
   "source": [
    "# one pixel after preprocessing\n",
    "print(X_train[1000][0][3])\n",
    "\n",
    "#plot an sample image after preprocessing\n",
    "plt.imshow(X_train[1000].squeeze())"
   ]
  },
  {
   "cell_type": "markdown",
   "metadata": {},
   "source": [
    "### Model Architecture"
   ]
  },
  {
   "cell_type": "code",
   "execution_count": 15,
   "metadata": {},
   "outputs": [],
   "source": [
    "### Define your architecture here.\n",
    "### Feel free to use as many code cells as needed.\n",
    "\n",
    "def LeNet(x):    \n",
    "    # Arguments used for tf.truncated_normal, randomly defines variables for the weights and biases for each layer\n",
    "    mu = 0\n",
    "    sigma = 0.1\n",
    "    \n",
    "    #  Layer 1: Convolutional. Input = 32x32x1. Output = 30x30x 32.\n",
    "    conv1_W = tf.Variable(tf.truncated_normal(shape=(3, 3, 1, 32), mean = mu, stddev = sigma))\n",
    "    conv1_b = tf.Variable(tf.zeros(32))\n",
    "    conv1   = tf.nn.conv2d(x, conv1_W, strides=[1, 1, 1, 1], padding='SAME') + conv1_b\n",
    "    # Activation.\n",
    "    conv1 = tf.nn.relu(conv1)\n",
    "\n",
    "    # Pooling. Input = 30x30x 32. Output = 15x15x  32.\n",
    "    conv1 = tf.nn.max_pool(conv1, ksize=[1, 2, 2, 1], strides=[1, 2, 2, 1], padding='SAME')\n",
    "    \n",
    "    # Layer 2: Convolutional. Output = 10x10x  64.\n",
    "    conv2_W = tf.Variable(tf.truncated_normal(shape=(3, 3, 32, 64), mean = mu, stddev = sigma))\n",
    "    conv2_b = tf.Variable(tf.zeros(64))\n",
    "    conv2   = tf.nn.conv2d(conv1, conv2_W, strides=[1, 1, 1, 1], padding='SAME') + conv2_b\n",
    "    \n",
    "    conv2 = tf.nn.relu(conv2)\n",
    "    conv2 = tf.nn.max_pool(conv2, ksize=[1, 2, 2, 1], strides=[1, 2, 2, 1], padding='SAME')\n",
    "    conv1 = tf.nn.dropout(conv1,keep_prob=keep_p)    #keep_prob=min(keep_p+0.2, 1))\n",
    "\n",
    "    fc0   = flatten(conv2)    \n",
    "    \n",
    "    # Layer 3: Fully Connected. Input = 400. Output = 64.\n",
    "    in_x = int(fc0.get_shape()[1])\n",
    "    fc1_W = tf.Variable(tf.truncated_normal(shape=(in_x, 64), mean = mu, stddev = sigma))\n",
    "    fc1_b = tf.Variable(tf.zeros(64))\n",
    "    fc1   =  tf.add(tf.matmul(fc0, fc1_W), fc1_b)\n",
    "    fc1    = tf.nn.relu(fc1)\n",
    "    fc1    = tf.nn.dropout(fc1, keep_prob=keep_p)\n",
    "\n",
    "\n",
    "    # Layer 4: Fully Connected. Input = 84. Output = 43.\n",
    "    fc2_W  = tf.Variable(tf.truncated_normal(shape=(64, 43), mean = mu, stddev = sigma))\n",
    "    fc2_b  = tf.Variable(tf.zeros(43))\n",
    "    logits =  tf.add(tf.matmul(fc1, fc2_W), fc2_b)\n",
    "    \n",
    "    return logits"
   ]
  },
  {
   "cell_type": "code",
   "execution_count": 16,
   "metadata": {},
   "outputs": [],
   "source": [
    "EPOCHS = 35\n",
    "BATCH_SIZE = 64\n",
    "\n",
    "keep_p= tf.placeholder(tf.float32)\n",
    "x = tf.placeholder(tf.float32, (None, 32, 32, 1))\n",
    "y = tf.placeholder(tf.int32, (None))\n",
    "one_hot_y = tf.one_hot(y, 43)"
   ]
  },
  {
   "cell_type": "markdown",
   "metadata": {},
   "source": [
    "### Train, Validate and Test the Model"
   ]
  },
  {
   "cell_type": "markdown",
   "metadata": {},
   "source": [
    "A validation set can be used to assess how well the model is performing. A low accuracy on the training and validation\n",
    "sets imply underfitting. A high accuracy on the training set but low accuracy on the validation set implies overfitting."
   ]
  },
  {
   "cell_type": "code",
   "execution_count": 17,
   "metadata": {},
   "outputs": [],
   "source": [
    "### Train your model here.\n",
    "### Calculate and report the accuracy on the training and validation set.\n",
    "### Once a final model architecture is selected, \n",
    "### the accuracy on the test set should be calculated and reported as well.\n",
    "### Feel free to use as many code cells as needed.\n",
    "\n",
    "rate = 0.001\n",
    "\n",
    "logits = LeNet(x)\n",
    "cross_entropy = tf.nn.softmax_cross_entropy_with_logits(labels=one_hot_y, logits=logits)\n",
    "loss_operation = tf.reduce_mean(cross_entropy)\n",
    "optimizer = tf.train.AdamOptimizer(learning_rate = rate)\n",
    "training_operation = optimizer.minimize(loss_operation)"
   ]
  },
  {
   "cell_type": "code",
   "execution_count": 18,
   "metadata": {},
   "outputs": [],
   "source": [
    "correct_prediction = tf.equal(tf.argmax(logits, 1), tf.argmax(one_hot_y, 1))\n",
    "accuracy_operation = tf.reduce_mean(tf.cast(correct_prediction, tf.float32))\n",
    "saver = tf.train.Saver()\n",
    "\n",
    "\n",
    "# for the evaluation\n",
    "def evaluate(X_data, y_data):\n",
    "    num_examples = len(X_data)\n",
    "    total_accuracy = 0\n",
    "    sess = tf.get_default_session()\n",
    "    for offset in range(0, num_examples, BATCH_SIZE):\n",
    "        batch_x, batch_y = X_data[offset:offset+BATCH_SIZE], y_data[offset:offset+BATCH_SIZE]\n",
    "        accuracy = sess.run(accuracy_operation, feed_dict={x: batch_x, y: batch_y, keep_p: 1.0})\n",
    "        total_accuracy += (accuracy * len(batch_x))\n",
    "    return total_accuracy / num_examples\n",
    "\n",
    "# will be used for prediction\n",
    "def predict(X_data, y_data):\n",
    "    num_examples = len(X_data)\n",
    "    sess = tf.get_default_session()\n",
    "    for offset in range(0, num_examples, BATCH_SIZE):\n",
    "        batch_x, batch_y = X_data[offset:offset+BATCH_SIZE], y_data[offset:offset+BATCH_SIZE]\n",
    "        output = sess.run(tf.argmax(logits,1), feed_dict={x: batch_x, keep_p: 1.0})     \n",
    "    return output\n",
    "\n",
    "\n",
    "\n",
    "# to visualize the accuracy after the training\n",
    "def vis(epoc, acc, t_or_v='t'):\n",
    "    ifier.ipynb#ory.history['val_loss']\n",
    "    epochs = range(1,epoc+1)\n",
    "    if t_or_v=='t':\n",
    "        plt.plot(epochs, acc, 'g', label='Training acc')\n",
    "    elif t_or_v=='v':\n",
    "        plt.plot(epochs, acc, 'b', label='validation acc')\n",
    "    plt.title('Training and Validation accuracy')\n",
    "    plt.xlabel('Epochs')\n",
    "    plt.ylabel('accuracy')\n",
    "    plt.legend()\n",
    "    plt.show()"
   ]
  },
  {
   "cell_type": "code",
   "execution_count": null,
   "metadata": {},
   "outputs": [],
   "source": []
  },
  {
   "cell_type": "code",
   "execution_count": 49,
   "metadata": {
    "scrolled": true
   },
   "outputs": [
    {
     "name": "stdout",
     "output_type": "stream",
     "text": [
      "Training...\n",
      "\n",
      "EPOCH 1 ...\ttrain Accuracy = 0.627\tValid Accuracy = 0.778\n",
      "\n",
      "EPOCH 2 ...\ttrain Accuracy = 0.720\tValid Accuracy = 0.873\n",
      "\n",
      "EPOCH 3 ...\ttrain Accuracy = 0.751\tValid Accuracy = 0.890\n",
      "\n",
      "EPOCH 4 ...\ttrain Accuracy = 0.780\tValid Accuracy = 0.922\n",
      "\n",
      "EPOCH 5 ...\ttrain Accuracy = 0.807\tValid Accuracy = 0.936\n",
      "\n",
      "EPOCH 6 ...\ttrain Accuracy = 0.818\tValid Accuracy = 0.931\n",
      "\n",
      "EPOCH 7 ...\ttrain Accuracy = 0.833\tValid Accuracy = 0.939\n",
      "\n",
      "EPOCH 8 ...\ttrain Accuracy = 0.846\tValid Accuracy = 0.945\n",
      "\n",
      "EPOCH 9 ...\ttrain Accuracy = 0.860\tValid Accuracy = 0.947\n",
      "\n",
      "EPOCH 10 ...\ttrain Accuracy = 0.868\tValid Accuracy = 0.958\n",
      "\n",
      "EPOCH 11 ...\ttrain Accuracy = 0.875\tValid Accuracy = 0.961\n",
      "\n",
      "EPOCH 12 ...\ttrain Accuracy = 0.879\tValid Accuracy = 0.956\n",
      "\n",
      "EPOCH 13 ...\ttrain Accuracy = 0.888\tValid Accuracy = 0.956\n",
      "\n",
      "EPOCH 14 ...\ttrain Accuracy = 0.899\tValid Accuracy = 0.967\n",
      "\n",
      "EPOCH 15 ...\ttrain Accuracy = 0.900\tValid Accuracy = 0.964\n",
      "\n",
      "EPOCH 16 ...\ttrain Accuracy = 0.908\tValid Accuracy = 0.966\n",
      "\n",
      "EPOCH 17 ...\ttrain Accuracy = 0.912\tValid Accuracy = 0.961\n",
      "\n",
      "EPOCH 18 ...\ttrain Accuracy = 0.917\tValid Accuracy = 0.968\n",
      "\n",
      "EPOCH 19 ...\ttrain Accuracy = 0.922\tValid Accuracy = 0.968\n",
      "\n",
      "EPOCH 20 ...\ttrain Accuracy = 0.928\tValid Accuracy = 0.965\n",
      "\n",
      "EPOCH 21 ...\ttrain Accuracy = 0.931\tValid Accuracy = 0.965\n",
      "\n",
      "EPOCH 22 ...\ttrain Accuracy = 0.931\tValid Accuracy = 0.963\n",
      "\n",
      "EPOCH 23 ...\ttrain Accuracy = 0.935\tValid Accuracy = 0.962\n",
      "\n",
      "EPOCH 24 ...\ttrain Accuracy = 0.942\tValid Accuracy = 0.969\n",
      "\n",
      "EPOCH 25 ...\ttrain Accuracy = 0.944\tValid Accuracy = 0.964\n",
      "\n",
      "EPOCH 26 ...\ttrain Accuracy = 0.946\tValid Accuracy = 0.965\n",
      "\n",
      "EPOCH 27 ...\ttrain Accuracy = 0.947\tValid Accuracy = 0.966\n",
      "\n",
      "EPOCH 28 ...\ttrain Accuracy = 0.953\tValid Accuracy = 0.971\n",
      "\n",
      "EPOCH 29 ...\ttrain Accuracy = 0.955\tValid Accuracy = 0.967\n",
      "\n",
      "EPOCH 30 ...\ttrain Accuracy = 0.956\tValid Accuracy = 0.970\n",
      "\n",
      "EPOCH 31 ...\ttrain Accuracy = 0.955\tValid Accuracy = 0.968\n",
      "\n",
      "EPOCH 32 ...\ttrain Accuracy = 0.956\tValid Accuracy = 0.968\n",
      "\n",
      "EPOCH 33 ...\ttrain Accuracy = 0.962\tValid Accuracy = 0.972\n",
      "\n",
      "EPOCH 34 ...\ttrain Accuracy = 0.962\tValid Accuracy = 0.968\n",
      "\n",
      "EPOCH 35 ...\ttrain Accuracy = 0.961\tValid Accuracy = 0.964\n",
      "\n",
      "Model saved\n"
     ]
    },
    {
     "data": {
      "image/png": "[encoded data removed]",
      "text/plain": [
       "<matplotlib.figure.Figure at 0x7fdd76cabbe0>"
      ]
     },
     "metadata": {
      "needs_background": "light"
     },
     "output_type": "display_data"
    },
    {
     "data": {
      "image/png": "[encoded data removed]",
      "text/plain": [
       "<matplotlib.figure.Figure at 0x7fdd76cbdcf8>"
      ]
     },
     "metadata": {
      "needs_background": "light"
     },
     "output_type": "display_data"
    }
   ],
   "source": [
    "# Training process\n",
    "\n",
    "with tf.Session() as sess:\n",
    "    sess.run(tf.global_variables_initializer())\n",
    "    num_examples = len(X_train)\n",
    "    \n",
    "    print(\"Training...\")\n",
    "    print()\n",
    "    tr= []\n",
    "    val= []\n",
    "    for i in range(EPOCHS):\n",
    "        X_train, y_train = shuffle(X_train, y_train)\n",
    "        for offset in range(0, num_examples, BATCH_SIZE):\n",
    "            end = offset + BATCH_SIZE\n",
    "            batch_x, batch_y = X_train[offset:end], y_train[offset:end]\n",
    "            sess.run(training_operation, feed_dict={x: batch_x, y: batch_y, keep_p: 0.5})\n",
    "        \n",
    "        train_accuracy = evaluate(X_train, y_train)\n",
    "        tr.append(train_accuracy)\n",
    "        validation_accuracy = evaluate(X_valid, y_valid)\n",
    "        val.append(validation_accuracy)\n",
    "        print(\"EPOCH {} ...\\ttrain Accuracy = {:.3f}\\tValid Accuracy = {:.3f}\".format(i+1, train_accuracy, validation_accuracy))\n",
    "        print()\n",
    "    \n",
    "\n",
    "    try:\n",
    "        saver\n",
    "    except NameError:\n",
    "        saver = tf.train.Saver()\n",
    "    saver.save(sess, './ckp_try_2/lenet_5.ckp')\n",
    "    print(\"Model saved\")\n",
    "    vis(EPOCHS, tr, 't')\n",
    "    vis(EPOCHS, val, 'v')"
   ]
  },
  {
   "cell_type": "markdown",
   "metadata": {},
   "source": [
    "---\n",
    "\n",
    "## Step 3: Test a Model on New Images\n",
    "\n",
    "To give yourself more insight into how your model is working, download at least five pictures of German traffic signs from the web and use your model to predict the traffic sign type.\n",
    "\n",
    "You may find `signnames.csv` useful as it contains mappings from the class id (integer) to the actual sign name."
   ]
  },
  {
   "cell_type": "markdown",
   "metadata": {},
   "source": [
    "### Load and Output the Images"
   ]
  },
  {
   "cell_type": "code",
   "execution_count": 19,
   "metadata": {},
   "outputs": [
    {
     "data": {
      "image/png": "[encoded data removed]",
      "text/plain": [
       "<matplotlib.figure.Figure at 0x7f2bb24dd160>"
      ]
     },
     "metadata": {},
     "output_type": "display_data"
    }
   ],
   "source": [
    "labels=[]\n",
    "with open('signnames.csv', mode='r') as f:\n",
    "    lines= csv.reader(f)\n",
    "    for l in lines:\n",
    "        labels.append(l)    # dataset labels\n",
    "        \n",
    "# get the 5 images and their labels\n",
    "path = './test/*.jpg'     \n",
    "files = map(os.path.basename, glob.glob(path))\n",
    "internet_imgs = []\n",
    "test_lbls = []\n",
    "labls = [] #the label namber and name\n",
    "out=[]   #only the label number\n",
    "for i in files:\n",
    "    img = cv2.imread('./test/'+i)\n",
    "    internet_imgs.append(img)\n",
    "    labls.append(labels[int(i.replace('.jpg', ''))+1])\n",
    "\n",
    "def draw_5_imgs(internet_imgs, labls):\n",
    "    im, axarray = plt.subplots(1, len(internet_imgs))\n",
    "    for i, ax in enumerate(axarray.ravel()):\n",
    "        ax.imshow(internet_imgs[i])\n",
    "        ax.set_title('{}'.format(labls[i][0]))\n",
    "        out.append(int(labls[i][0]))                   # get the labels\n",
    "        plt.setp(ax.get_xticklabels(), visible=False)\n",
    "        plt.setp(ax.get_yticklabels(), visible=False)\n",
    "        ax.set_xticks([]), ax.set_yticks([])\n",
    "\n",
    "# draw the images with it's labels\n",
    "draw_5_imgs(internet_imgs, labls)"
   ]
  },
  {
   "cell_type": "code",
   "execution_count": 20,
   "metadata": {},
   "outputs": [
    {
     "name": "stdout",
     "output_type": "stream",
     "text": [
      "(32, 32)\n"
     ]
    },
    {
     "data": {
      "text/plain": [
       "<matplotlib.image.AxesImage at 0x7f2bb21af828>"
      ]
     },
     "execution_count": 20,
     "metadata": {},
     "output_type": "execute_result"
    },
    {
     "data": {
      "image/png": "[encoded data removed]",
      "text/plain": [
       "<matplotlib.figure.Figure at 0x7f2bb22990b8>"
      ]
     },
     "metadata": {
      "needs_background": "light"
     },
     "output_type": "display_data"
    }
   ],
   "source": [
    "# preprocess the images\n",
    "internet_imgs_ = preprocess(internet_imgs, RGB_BGR='BGR')\n",
    "\n",
    "#plot the sample image after preprocessing\n",
    "sample = internet_imgs_[0].squeeze()\n",
    "print(np.shape(sample))\n",
    "plt.imshow(sample)"
   ]
  },
  {
   "cell_type": "markdown",
   "metadata": {},
   "source": [
    "### Predict the Sign Type for Each Image"
   ]
  },
  {
   "cell_type": "code",
   "execution_count": 21,
   "metadata": {},
   "outputs": [
    {
     "name": "stdout",
     "output_type": "stream",
     "text": [
      "INFO:tensorflow:Restoring parameters from ./ckp_try_2/lenet_5.ckp\n",
      "\n",
      "\t\t\t########### THE ACCURACY ###########\n",
      "accuracy of test dataset =     0.947110055442\n",
      "accuracy of internet images =  0.600000023842\n",
      "\n",
      "\n",
      "\t\t\t########### THE PRECICTION ###########\n",
      "\treal sign \t\t\t\tpredicted \t\t    True or False?\n",
      "['36', 'Go straight or right']          ['34', 'Turn left ahead']               False                              \n",
      "['1', 'Speed limit (30km/h)']           ['1', 'Speed limit (30km/h)']           True                               \n",
      "['35', 'Ahead only']                    ['35', 'Ahead only']                    True                               \n",
      "['0', 'Speed limit (20km/h)']           ['34', 'Turn left ahead']               False                              \n",
      "['39', 'Keep left']                     ['39', 'Keep left']                     True                               \n"
     ]
    }
   ],
   "source": [
    "# calculate the accuracy of the test dataset\n",
    "# calculate the accuracy of the 5 images\n",
    "# make the prediction for the 5 images\n",
    "\n",
    "\n",
    "with tf.Session() as sess:   \n",
    "    sess.run(tf.global_variables_initializer())\n",
    "    saver.restore(sess, \"./ckp_try_2/lenet_5.ckp\") #tf.train.latest_checkpoint('.')) # \"./ckp_try_2/lenet_5.ckp\")\n",
    "    \n",
    "    test_accuracy= evaluate(X_test, y_test)\n",
    "    \n",
    "    internet_accuracy= evaluate(internet_imgs_, out)\n",
    "    prediction = predict(internet_imgs_, out)\n",
    "    \n",
    "    print(\"\\n\\t\\t\\t########### THE ACCURACY ###########\")\n",
    "    print('accuracy of test dataset =    ', test_accuracy)\n",
    "    print('accuracy of internet images = ', internet_accuracy)\n",
    "    \n",
    "    bol = (prediction==out)\n",
    "    \n",
    "    print(\"\\n\\n\\t\\t\\t########### THE PRECICTION ###########\")\n",
    "    print('\\treal sign \\t\\t\\t\\tpredicted \\t\\t    True or False?')\n",
    "    \n",
    "\n",
    "    \n",
    "    \n",
    "    for i in range(len(prediction)):\n",
    "        print ('%-40s%-40s%-35s' % (labels[out[i]], labels[prediction[i]], bol[i]))\n"
   ]
  },
  {
   "cell_type": "markdown",
   "metadata": {},
   "source": [
    "### Output Top 5 Softmax Probabilities For Each Image Found on the Web"
   ]
  },
  {
   "cell_type": "markdown",
   "metadata": {},
   "source": [
    "For each of the new images, print out the model's softmax probabilities to show the **certainty** of the model's predictions (limit the output to the top 5 probabilities for each image). [`tf.nn.top_k`](https://www.tensorflow.org/versions/r0.12/api_docs/python/nn.html#top_k) could prove helpful here. \n",
    "\n",
    "The example below demonstrates how tf.nn.top_k can be used to find the top k predictions for each image.\n",
    "\n",
    "`tf.nn.top_k` will return the values and indices (class ids) of the top k predictions. So if k=3, for each sign, it'll return the 3 largest probabilities (out of a possible 43) and the correspoding class ids.\n",
    "\n",
    "Take this numpy array as an example. The values in the array represent predictions. The array contains softmax probabilities for five candidate images with six possible classes. `tf.nn.top_k` is used to choose the three classes with the highest probability:\n",
    "\n",
    "```\n",
    "# (5, 6) array\n",
    "a = np.array([[ 0.24879643,  0.07032244,  0.12641572,  0.34763842,  0.07893497,\n",
    "         0.12789202],\n",
    "       [ 0.28086119,  0.27569815,  0.08594638,  0.0178669 ,  0.18063401,\n",
    "         0.15899337],\n",
    "       [ 0.26076848,  0.23664738,  0.08020603,  0.07001922,  0.1134371 ,\n",
    "         0.23892179],\n",
    "       [ 0.11943333,  0.29198961,  0.02605103,  0.26234032,  0.1351348 ,\n",
    "         0.16505091],\n",
    "       [ 0.09561176,  0.34396535,  0.0643941 ,  0.16240774,  0.24206137,\n",
    "         0.09155967]])\n",
    "```\n",
    "\n",
    "Running it through `sess.run(tf.nn.top_k(tf.constant(a), k=3))` produces:\n",
    "\n",
    "```\n",
    "TopKV2(values=array([[ 0.34763842,  0.24879643,  0.12789202],\n",
    "       [ 0.28086119,  0.27569815,  0.18063401],\n",
    "       [ 0.26076848,  0.23892179,  0.23664738],\n",
    "       [ 0.29198961,  0.26234032,  0.16505091],\n",
    "       [ 0.34396535,  0.24206137,  0.16240774]]), indices=array([[3, 0, 5],\n",
    "       [0, 1, 4],\n",
    "       [0, 5, 1],\n",
    "       [1, 3, 5],\n",
    "       [1, 4, 3]], dtype=int32))\n",
    "```\n",
    "\n",
    "Looking just at the first row we get `[ 0.34763842,  0.24879643,  0.12789202]`, you can confirm these are the 3 largest probabilities in `a`. You'll also notice `[3, 0, 5]` are the corresponding indices."
   ]
  },
  {
   "cell_type": "code",
   "execution_count": 22,
   "metadata": {},
   "outputs": [
    {
     "name": "stdout",
     "output_type": "stream",
     "text": [
      "INFO:tensorflow:Restoring parameters from ./ckp_try_2/lenet_5.ckp\n",
      "TopKV2(values=array([[  4.95857334,   2.11906052,   0.25923955,  -0.34485942,\n",
      "         -2.61137843],\n",
      "       [ 17.47912407,  15.89650059,   7.56197262,   3.10601616,\n",
      "         -1.01407778],\n",
      "       [  6.88171768,   4.89048719,   0.61924875,   0.48479122,\n",
      "         -0.79280132],\n",
      "       [  0.89117146,  -1.12211752,  -4.35259533,  -4.4826479 ,\n",
      "         -5.46780539],\n",
      "       [  2.54710674,   0.37617949,  -0.67441773,  -1.50736356,\n",
      "         -2.05238152]], dtype=float32), indices=array([[35, 34, 12, 33, 11],\n",
      "       [ 2,  1,  0,  5,  4],\n",
      "       [36, 35, 33, 34, 14],\n",
      "       [35, 36, 33, 11, 38],\n",
      "       [40, 12,  7,  2,  5]], dtype=int32))\n"
     ]
    }
   ],
   "source": [
    "### Print out the top five softmax probabilities for the predictions on the German traffic sign images found on the web. \n",
    "### Feel free to use as many code cells as needed.\n",
    "\n",
    "\n",
    "with tf.Session() as sess:   \n",
    "    sess.run(tf.global_variables_initializer())\n",
    "    saver.restore(sess, \"./ckp_try_2/lenet_5.ckp\")\n",
    "\n",
    "    top_k = sess.run(tf.nn.top_k(logits, k=5), feed_dict={x: internet_imgs_, keep_p: 1.0})\n",
    "    print(top_k)"
   ]
  },
  {
   "cell_type": "markdown",
   "metadata": {},
   "source": [
    "### Project Writeup\n",
    "\n",
    "Once you have completed the code implementation, document your results in a project writeup using this [template](https://github.com/udacity/CarND-Traffic-Sign-Classifier-Project/blob/master/writeup_template.md) as a guide. The writeup can be in a markdown or pdf file. "
   ]
  },
  {
   "cell_type": "markdown",
   "metadata": {},
   "source": [
    "> **Note**: Once you have completed all of the code implementations and successfully answered each question above, you may finalize your work by exporting the iPython Notebook as an HTML document. You can do this by using the menu above and navigating to  \\n\",\n",
    "    \"**File -> Download as -> HTML (.html)**. Include the finished document along with this notebook as your submission."
   ]
  },
  {
   "cell_type": "markdown",
   "metadata": {},
   "source": [
    "---\n",
    "\n",
    "## Step 4 (Optional): Visualize the Neural Network's State with Test Images\n",
    "\n",
    " This Section is not required to complete but acts as an additional excersise for understaning the output of a neural network's weights. While neural networks can be a great learning device they are often referred to as a black box. We can understand what the weights of a neural network look like better by plotting their feature maps. After successfully training your neural network you can see what it's feature maps look like by plotting the output of the network's weight layers in response to a test stimuli image. From these plotted feature maps, it's possible to see what characteristics of an image the network finds interesting. For a sign, maybe the inner network feature maps react with high activation to the sign's boundary outline or to the contrast in the sign's painted symbol.\n",
    "\n",
    " Provided for you below is the function code that allows you to get the visualization output of any tensorflow weight layer you want. The inputs to the function should be a stimuli image, one used during training or a new one you provided, and then the tensorflow variable name that represents the layer's state during the training process, for instance if you wanted to see what the [LeNet lab's](https://classroom.udacity.com/nanodegrees/nd013/parts/fbf77062-5703-404e-b60c-95b78b2f3f9e/modules/6df7ae49-c61c-4bb2-a23e-6527e69209ec/lessons/601ae704-1035-4287-8b11-e2c2716217ad/concepts/d4aca031-508f-4e0b-b493-e7b706120f81) feature maps looked like for it's second convolutional layer you could enter conv2 as the tf_activation variable.\n",
    "\n",
    "For an example of what feature map outputs look like, check out NVIDIA's results in their paper [End-to-End Deep Learning for Self-Driving Cars](https://devblogs.nvidia.com/parallelforall/deep-learning-self-driving-cars/) in the section Visualization of internal CNN State. NVIDIA was able to show that their network's inner weights had high activations to road boundary lines by comparing feature maps from an image with a clear path to one without. Try experimenting with a similar test to show that your trained network's weights are looking for interesting features, whether it's looking at differences in feature maps from images with or without a sign, or even what feature maps look like in a trained network vs a completely untrained one on the same sign image.\n",
    "\n",
    "<figure>\n",
    " <img src=\"visualize_cnn.png\" width=\"380\" alt=\"Combined Image\" />\n",
    " <figcaption>\n",
    " <p></p> \n",
    " <p style=\"text-align: center;\"> Your output should look something like this (above)</p> \n",
    " </figcaption>\n",
    "</figure>\n",
    " <p></p> \n"
   ]
  },
  {
   "cell_type": "code",
   "execution_count": null,
   "metadata": {},
   "outputs": [],
   "source": [
    "### Visualize your network's feature maps here.\n",
    "### Feel free to use as many code cells as needed.\n",
    "\n",
    "# image_input: the test image being fed into the network to produce the feature maps\n",
    "# tf_activation: should be a tf variable name used during your training procedure that represents the calculated state of a specific weight layer\n",
    "# activation_min/max: can be used to view the activation contrast in more detail, by default matplot sets min and max to the actual min and max values of the output\n",
    "# plt_num: used to plot out multiple different weight feature map sets on the same block, just extend the plt number for each new feature map entry\n",
    "\n",
    "def outputFeatureMap(image_input, tf_activation, activation_min=-1, activation_max=-1 ,plt_num=1):\n",
    "    # Here make sure to preprocess your image_input in a way your network expects\n",
    "    # with size, normalization, ect if needed\n",
    "    # image_input =\n",
    "    # Note: x should be the same name as your network's tensorflow data placeholder variable\n",
    "    # If you get an error tf_activation is not defined it may be having trouble accessing the variable from inside a function\n",
    "    activation = tf_activation.eval(session=sess,feed_dict={x : image_input})\n",
    "    featuremaps = activation.shape[3]\n",
    "    plt.figure(plt_num, figsize=(15,15))\n",
    "    for featuremap in range(featuremaps):\n",
    "        plt.subplot(6,8, featuremap+1) # sets the number of feature maps to show on each row and column\n",
    "        plt.title('FeatureMap ' + str(featuremap)) # displays the feature map number\n",
    "        if activation_min != -1 & activation_max != -1:\n",
    "            plt.imshow(activation[0,:,:, featuremap], interpolation=\"nearest\", vmin =activation_min, vmax=activation_max, cmap=\"gray\")\n",
    "        elif activation_max != -1:\n",
    "            plt.imshow(activation[0,:,:, featuremap], interpolation=\"nearest\", vmax=activation_max, cmap=\"gray\")\n",
    "        elif activation_min !=-1:\n",
    "            plt.imshow(activation[0,:,:, featuremap], interpolation=\"nearest\", vmin=activation_min, cmap=\"gray\")\n",
    "        else:\n",
    "            plt.imshow(activation[0,:,:, featuremap], interpolation=\"nearest\", cmap=\"gray\")"
   ]
  }
 ],
 "metadata": {
  "anaconda-cloud": {},
  "celltoolbar": "Raw Cell Format",
  "kernelspec": {
   "display_name": "Python 3",
   "language": "python",
   "name": "python3"
  },
  "language_info": {
   "codemirror_mode": {
    "name": "ipython",
    "version": 3
   },
   "file_extension": ".py",
   "mimetype": "text/x-python",
   "name": "python",
   "nbconvert_exporter": "python",
   "pygments_lexer": "ipython3",
   "version": "3.6.3"
  }
 },
 "nbformat": 4,
 "nbformat_minor": 1
}
